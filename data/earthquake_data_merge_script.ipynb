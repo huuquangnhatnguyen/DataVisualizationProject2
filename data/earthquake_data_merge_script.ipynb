{
  "nbformat": 4,
  "nbformat_minor": 0,
  "metadata": {
    "colab": {
      "provenance": []
    },
    "kernelspec": {
      "name": "python3",
      "display_name": "Python 3"
    },
    "language_info": {
      "name": "python"
    }
  },
  "cells": [
    {
      "cell_type": "code",
      "execution_count": 1,
      "metadata": {
        "id": "5Y6UlHfKVH7M"
      },
      "outputs": [],
      "source": [
        "import pandas as pd\n",
        "\n",
        "years = range(2014, 2026)\n",
        "files = [f\"{year}world.csv\" for year in years]\n",
        "\n",
        "dataframes = []\n",
        "for file in files:\n",
        "    df = pd.read_csv(file)\n",
        "    df['time'] = pd.to_datetime(df['time'], utc=True)\n",
        "    dataframes.append(df)"
      ]
    },
    {
      "cell_type": "code",
      "source": [
        "merged_df = pd.concat(dataframes, ignore_index=True)\n",
        "\n",
        "# Sort by time in descending order (newest to oldest)\n",
        "merged_df.sort_values(by='time', ascending=False, inplace=True)"
      ],
      "metadata": {
        "id": "C70Mj9QDWCAQ"
      },
      "execution_count": 2,
      "outputs": []
    },
    {
      "cell_type": "code",
      "source": [
        "print(df.head())"
      ],
      "metadata": {
        "colab": {
          "base_uri": "https://localhost:8080/"
        },
        "id": "X1h08xQcWVwF",
        "outputId": "9fc636e5-614a-44ca-e6bf-f0a19247f572"
      },
      "execution_count": 3,
      "outputs": [
        {
          "output_type": "stream",
          "name": "stdout",
          "text": [
            "                              time  latitude  longitude    depth  mag magType  \\\n",
            "0 2025-03-31 15:58:26.585000+00:00  -23.7295   -66.7675  202.242  4.5      mb   \n",
            "1 2025-03-31 15:54:19.308000+00:00  -10.0526   119.0351   28.472  5.6     mww   \n",
            "2 2025-03-31 15:06:01.638000+00:00  -52.2187    27.9676   10.000  4.7      mb   \n",
            "3 2025-03-31 13:36:16.254000+00:00    0.6527   -29.6700   10.000  5.2      mb   \n",
            "4 2025-03-31 13:20:45.875000+00:00  -20.4567  -173.7708   25.343  4.9      mb   \n",
            "\n",
            "     nst    gap    dmin   rms  ...                   updated  \\\n",
            "0   46.0   93.0   1.511  1.13  ...  2025-03-31T16:22:19.040Z   \n",
            "1  108.0   25.0   1.301  0.92  ...  2025-03-31T16:39:23.416Z   \n",
            "2   19.0   91.0  20.499  0.49  ...  2025-03-31T15:39:47.040Z   \n",
            "3   61.0   89.0   8.952  1.01  ...  2025-03-31T14:49:28.040Z   \n",
            "4   50.0  125.0   3.871  1.11  ...  2025-03-31T14:26:23.040Z   \n",
            "\n",
            "                                              place        type  \\\n",
            "0  70 km NW of San Antonio de los Cobres, Argentina  earthquake   \n",
            "1                 72 km SSW of Tambolaka, Indonesia  earthquake   \n",
            "2                                   south of Africa  earthquake   \n",
            "3                        central Mid-Atlantic Ridge  earthquake   \n",
            "4                         93 km SE of Pangai, Tonga  earthquake   \n",
            "\n",
            "  horizontalError depthError  magError  magNst    status  locationSource  \\\n",
            "0           10.51      8.239     0.065    71.0  reviewed              us   \n",
            "1            7.09      4.949     0.063    24.0  reviewed              us   \n",
            "2            9.75      1.903     0.130    19.0  reviewed              us   \n",
            "3           10.80      1.878     0.038   235.0  reviewed              us   \n",
            "4            6.41      5.309     0.082    47.0  reviewed              us   \n",
            "\n",
            "  magSource  \n",
            "0        us  \n",
            "1        us  \n",
            "2        us  \n",
            "3        us  \n",
            "4        us  \n",
            "\n",
            "[5 rows x 22 columns]\n"
          ]
        }
      ]
    },
    {
      "cell_type": "code",
      "source": [
        "# Convert the 'time' column back to ISO8601 format with milliseconds and a trailing \"Z\"\n",
        "# This step assumes that you want exactly three decimal places for milliseconds.\n",
        "merged_df['time'] = merged_df['time'].dt.strftime(\"%Y-%m-%dT%H:%M:%S.%f\")\n",
        "merged_df['time'] = merged_df['time'].str[:-3] + \"Z\""
      ],
      "metadata": {
        "id": "5aFoWDNyWUd3"
      },
      "execution_count": 4,
      "outputs": []
    },
    {
      "cell_type": "code",
      "source": [
        "print(df.head())"
      ],
      "metadata": {
        "colab": {
          "base_uri": "https://localhost:8080/"
        },
        "id": "gZW7flyqWa5k",
        "outputId": "3a7af6c0-d493-4a28-b7db-0d26a9589997"
      },
      "execution_count": 5,
      "outputs": [
        {
          "output_type": "stream",
          "name": "stdout",
          "text": [
            "                              time  latitude  longitude    depth  mag magType  \\\n",
            "0 2025-03-31 15:58:26.585000+00:00  -23.7295   -66.7675  202.242  4.5      mb   \n",
            "1 2025-03-31 15:54:19.308000+00:00  -10.0526   119.0351   28.472  5.6     mww   \n",
            "2 2025-03-31 15:06:01.638000+00:00  -52.2187    27.9676   10.000  4.7      mb   \n",
            "3 2025-03-31 13:36:16.254000+00:00    0.6527   -29.6700   10.000  5.2      mb   \n",
            "4 2025-03-31 13:20:45.875000+00:00  -20.4567  -173.7708   25.343  4.9      mb   \n",
            "\n",
            "     nst    gap    dmin   rms  ...                   updated  \\\n",
            "0   46.0   93.0   1.511  1.13  ...  2025-03-31T16:22:19.040Z   \n",
            "1  108.0   25.0   1.301  0.92  ...  2025-03-31T16:39:23.416Z   \n",
            "2   19.0   91.0  20.499  0.49  ...  2025-03-31T15:39:47.040Z   \n",
            "3   61.0   89.0   8.952  1.01  ...  2025-03-31T14:49:28.040Z   \n",
            "4   50.0  125.0   3.871  1.11  ...  2025-03-31T14:26:23.040Z   \n",
            "\n",
            "                                              place        type  \\\n",
            "0  70 km NW of San Antonio de los Cobres, Argentina  earthquake   \n",
            "1                 72 km SSW of Tambolaka, Indonesia  earthquake   \n",
            "2                                   south of Africa  earthquake   \n",
            "3                        central Mid-Atlantic Ridge  earthquake   \n",
            "4                         93 km SE of Pangai, Tonga  earthquake   \n",
            "\n",
            "  horizontalError depthError  magError  magNst    status  locationSource  \\\n",
            "0           10.51      8.239     0.065    71.0  reviewed              us   \n",
            "1            7.09      4.949     0.063    24.0  reviewed              us   \n",
            "2            9.75      1.903     0.130    19.0  reviewed              us   \n",
            "3           10.80      1.878     0.038   235.0  reviewed              us   \n",
            "4            6.41      5.309     0.082    47.0  reviewed              us   \n",
            "\n",
            "  magSource  \n",
            "0        us  \n",
            "1        us  \n",
            "2        us  \n",
            "3        us  \n",
            "4        us  \n",
            "\n",
            "[5 rows x 22 columns]\n"
          ]
        }
      ]
    },
    {
      "cell_type": "code",
      "source": [
        "# Save the merged DataFrame to a new CSV file\n",
        "merged_df.to_csv(\"2014-2025earthquakes.csv\", index=False)"
      ],
      "metadata": {
        "id": "45EccYIkWaH6"
      },
      "execution_count": 6,
      "outputs": []
    }
  ]
}