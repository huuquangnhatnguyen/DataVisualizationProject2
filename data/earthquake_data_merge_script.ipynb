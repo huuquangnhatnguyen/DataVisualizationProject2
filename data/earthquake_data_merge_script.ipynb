{
  "cells": [
    {
      "cell_type": "code",
      "execution_count": 1,
      "metadata": {
        "id": "5Y6UlHfKVH7M"
      },
      "outputs": [],
      "source": [
        "import pandas as pd\n",
        "\n",
        "years = range(2014, 2026)\n",
        "files = [f\"{year}world.csv\" for year in years]\n",
        "\n",
        "dataframes = []\n",
        "for file in files:\n",
        "    df = pd.read_csv(file)\n",
        "    df['time'] = pd.to_datetime(df['time'], utc=True)\n",
        "    dataframes.append(df)"
      ]
    },
    {
      "cell_type": "code",
      "execution_count": 2,
      "metadata": {
        "id": "C70Mj9QDWCAQ"
      },
      "outputs": [],
      "source": [
        "merged_df = pd.concat(dataframes, ignore_index=True)\n",
        "\n",
        "# Sort by time in descending order (newest to oldest)\n",
        "merged_df.sort_values(by='time', ascending=False, inplace=True)"
      ]
    },
    {
      "cell_type": "code",
      "execution_count": 3,
      "metadata": {
        "colab": {
          "base_uri": "https://localhost:8080/"
        },
        "id": "X1h08xQcWVwF",
        "outputId": "9fc636e5-614a-44ca-e6bf-f0a19247f572"
      },
      "outputs": [
        {
          "name": "stdout",
          "output_type": "stream",
          "text": [
            "                              time  latitude  longitude    depth  mag magType  \\\n",
            "0 2025-03-31 15:58:26.585000+00:00  -23.7295   -66.7675  202.242  4.5      mb   \n",
            "1 2025-03-31 15:54:19.308000+00:00  -10.0526   119.0351   28.472  5.6     mww   \n",
            "2 2025-03-31 15:06:01.638000+00:00  -52.2187    27.9676   10.000  4.7      mb   \n",
            "3 2025-03-31 13:36:16.254000+00:00    0.6527   -29.6700   10.000  5.2      mb   \n",
            "4 2025-03-31 13:20:45.875000+00:00  -20.4567  -173.7708   25.343  4.9      mb   \n",
            "\n",
            "     nst    gap    dmin   rms  ...                   updated  \\\n",
            "0   46.0   93.0   1.511  1.13  ...  2025-03-31T16:22:19.040Z   \n",
            "1  108.0   25.0   1.301  0.92  ...  2025-03-31T16:39:23.416Z   \n",
            "2   19.0   91.0  20.499  0.49  ...  2025-03-31T15:39:47.040Z   \n",
            "3   61.0   89.0   8.952  1.01  ...  2025-03-31T14:49:28.040Z   \n",
            "4   50.0  125.0   3.871  1.11  ...  2025-03-31T14:26:23.040Z   \n",
            "\n",
            "                                              place        type  \\\n",
            "0  70 km NW of San Antonio de los Cobres, Argentina  earthquake   \n",
            "1                 72 km SSW of Tambolaka, Indonesia  earthquake   \n",
            "2                                   south of Africa  earthquake   \n",
            "3                        central Mid-Atlantic Ridge  earthquake   \n",
            "4                         93 km SE of Pangai, Tonga  earthquake   \n",
            "\n",
            "  horizontalError depthError  magError  magNst    status  locationSource  \\\n",
            "0           10.51      8.239     0.065    71.0  reviewed              us   \n",
            "1            7.09      4.949     0.063    24.0  reviewed              us   \n",
            "2            9.75      1.903     0.130    19.0  reviewed              us   \n",
            "3           10.80      1.878     0.038   235.0  reviewed              us   \n",
            "4            6.41      5.309     0.082    47.0  reviewed              us   \n",
            "\n",
            "  magSource  \n",
            "0        us  \n",
            "1        us  \n",
            "2        us  \n",
            "3        us  \n",
            "4        us  \n",
            "\n",
            "[5 rows x 22 columns]\n"
          ]
        }
      ],
      "source": [
        "print(df.head())"
      ]
    },
    {
      "cell_type": "code",
      "execution_count": 4,
      "metadata": {
        "id": "5aFoWDNyWUd3"
      },
      "outputs": [],
      "source": [
        "# Convert the 'time' column back to ISO8601 format with milliseconds and a trailing \"Z\"\n",
        "# This step assumes that you want exactly three decimal places for milliseconds.\n",
        "merged_df['time'] = merged_df['time'].dt.strftime(\"%Y-%m-%dT%H:%M:%S.%f\")\n",
        "merged_df['time'] = merged_df['time'].str[:-3] + \"Z\""
      ]
    },
    {
      "cell_type": "code",
      "execution_count": 5,
      "metadata": {
        "colab": {
          "base_uri": "https://localhost:8080/"
        },
        "id": "gZW7flyqWa5k",
        "outputId": "3a7af6c0-d493-4a28-b7db-0d26a9589997"
      },
      "outputs": [
        {
          "name": "stdout",
          "output_type": "stream",
          "text": [
            "                              time  latitude  longitude    depth  mag magType  \\\n",
            "0 2025-03-31 15:58:26.585000+00:00  -23.7295   -66.7675  202.242  4.5      mb   \n",
            "1 2025-03-31 15:54:19.308000+00:00  -10.0526   119.0351   28.472  5.6     mww   \n",
            "2 2025-03-31 15:06:01.638000+00:00  -52.2187    27.9676   10.000  4.7      mb   \n",
            "3 2025-03-31 13:36:16.254000+00:00    0.6527   -29.6700   10.000  5.2      mb   \n",
            "4 2025-03-31 13:20:45.875000+00:00  -20.4567  -173.7708   25.343  4.9      mb   \n",
            "\n",
            "     nst    gap    dmin   rms  ...                   updated  \\\n",
            "0   46.0   93.0   1.511  1.13  ...  2025-03-31T16:22:19.040Z   \n",
            "1  108.0   25.0   1.301  0.92  ...  2025-03-31T16:39:23.416Z   \n",
            "2   19.0   91.0  20.499  0.49  ...  2025-03-31T15:39:47.040Z   \n",
            "3   61.0   89.0   8.952  1.01  ...  2025-03-31T14:49:28.040Z   \n",
            "4   50.0  125.0   3.871  1.11  ...  2025-03-31T14:26:23.040Z   \n",
            "\n",
            "                                              place        type  \\\n",
            "0  70 km NW of San Antonio de los Cobres, Argentina  earthquake   \n",
            "1                 72 km SSW of Tambolaka, Indonesia  earthquake   \n",
            "2                                   south of Africa  earthquake   \n",
            "3                        central Mid-Atlantic Ridge  earthquake   \n",
            "4                         93 km SE of Pangai, Tonga  earthquake   \n",
            "\n",
            "  horizontalError depthError  magError  magNst    status  locationSource  \\\n",
            "0           10.51      8.239     0.065    71.0  reviewed              us   \n",
            "1            7.09      4.949     0.063    24.0  reviewed              us   \n",
            "2            9.75      1.903     0.130    19.0  reviewed              us   \n",
            "3           10.80      1.878     0.038   235.0  reviewed              us   \n",
            "4            6.41      5.309     0.082    47.0  reviewed              us   \n",
            "\n",
            "  magSource  \n",
            "0        us  \n",
            "1        us  \n",
            "2        us  \n",
            "3        us  \n",
            "4        us  \n",
            "\n",
            "[5 rows x 22 columns]\n"
          ]
        }
      ],
      "source": [
        "print(df.head())"
      ]
    },
    {
      "cell_type": "code",
      "execution_count": 6,
      "metadata": {
        "id": "45EccYIkWaH6"
      },
      "outputs": [],
      "source": [
        "# Save the merged DataFrame to a new CSV file\n",
        "merged_df.to_csv(\"2014-2025earthquakes.csv\", index=False)"
      ]
    },
    {
      "cell_type": "code",
      "execution_count": null,
      "metadata": {},
      "outputs": [],
      "source": [
        "import pandas as pd\n",
        "import geopandas as gpd\n",
        "from shapely.geometry import Point\n",
        "from shapely.geometry import Point\n",
        "!pip install shapely\n",
        "!pip install geopandas"
      ]
    },
    {
      "cell_type": "code",
      "execution_count": null,
      "metadata": {},
      "outputs": [],
      "source": [
        "# prompt: i want to import 2024-2025.csv as a panda frame\n",
        "\n",
        "# Assuming the CSV file is in the current working directory.\n",
        "# If it's in a different location, provide the full path.\n",
        "df = pd.read_csv('2014-2025earthquakes.csv')\n",
        "print(df.head())  # Display the first few rows of the DataFrame\n",
        "\n"
      ]
    },
    {
      "cell_type": "code",
      "execution_count": null,
      "metadata": {},
      "outputs": [],
      "source": [
        "def get_continent_from_lat_lon(lat, lon):\n",
        "    if -56 <= lat <= 83:  # Approximate range of inhabited continents\n",
        "        if -170 <= lon <= -50:\n",
        "            return \"NA\"  # North America\n",
        "        elif -50 <= lon <= 60:\n",
        "            return \"EU\" if lat >= 35 else \"AF\"  # Europe or Africa\n",
        "        elif 60 <= lon <= 150:\n",
        "            return \"AS\"  # Asia\n",
        "        elif 150 <= lon or lon <= -170:\n",
        "            return \"OC\"  # Oceania\n",
        "        elif -80 <= lon <= -30 and -60 <= lat <= 0:\n",
        "            return \"SA\"  # South America\n",
        "    return \"AC\""
      ]
    },
    {
      "cell_type": "code",
      "execution_count": null,
      "metadata": {},
      "outputs": [],
      "source": [
        "# Load tectonic plate shapefile (Download from USGS or GPlates)\n",
        "plates = gpd.read_file(\"PB2002_plates.json\")\n",
        "def get_plate(lat, lon, gdf=plates):\n",
        "    \"\"\"Returns the tectonic plate for a given lat/lon.\"\"\"\n",
        "    point = Point(lon, lat)\n",
        "    match = gdf[gdf.geometry.contains(point)]\n",
        "    return match['PlateName'].values[0] if not match.empty else \"Unknown\""
      ]
    },
    {
      "cell_type": "code",
      "execution_count": null,
      "metadata": {},
      "outputs": [],
      "source": [
        "try:\n",
        "    df = pd.read_csv('2024-2025earthquakes.csv')\n",
        "\n",
        "    # Extract location from the 'Country' column\n",
        "    df['Country'] = df['place'].str.split(',').str[-1].str.strip()\n",
        "    for index, row in df.iterrows():\n",
        "        df.at[index, 'Continent'] = get_continent_from_lat_lon(row['latitude'], row['longitude'])\n",
        "        # df.at[index, 'place'] = get_continent_from_lat_lon(row['latitude'], row['longitude'])\n",
        "        df.at[index, 'Plate'] = get_plate(row['latitude'], row['longitude'])\n",
        "    print(df.head(5))\n",
        "\n",
        "    # Export the updated DataFrame to a new CSV file\n",
        "    df.to_csv('updated_2024-2025.csv', index=False)  # Set index=False to avoid writing row indices\n",
        "\n",
        "    print(\"New CSV file 'updated_2024-2025.csv' created successfully.\")\n",
        "\n",
        "except FileNotFoundError:\n",
        "    print(\"Error: '2024-2025.csv' not found. Please make sure the file exists in the current directory or provide the correct path.\")\n",
        "except KeyError:\n",
        "    print(\"Error: 'Country' column not found in the CSV file.\")\n",
        "except Exception as e:\n",
        "    print(f\"An unexpected error occurred: {e}\")"
      ]
    }
  ],
  "metadata": {
    "colab": {
      "provenance": []
    },
    "kernelspec": {
      "display_name": "Python 3",
      "name": "python3"
    },
    "language_info": {
      "name": "python"
    }
  },
  "nbformat": 4,
  "nbformat_minor": 0
}
